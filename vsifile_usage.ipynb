{
 "cells": [
  {
   "cell_type": "code",
   "execution_count": 2,
   "id": "97959b17",
   "metadata": {
    "scrolled": false
   },
   "outputs": [],
   "source": [
    "import rasterio\n",
    "from rio_tiler.io import Reader\n",
    "from vsifile import VSIFile\n",
    "from vsifile.settings import cache_settings"
   ]
  },
  {
   "cell_type": "code",
   "execution_count": 11,
   "id": "9350ce11",
   "metadata": {},
   "outputs": [
    {
     "name": "stdout",
     "output_type": "stream",
     "text": [
      "10.7 ms ± 4.57 ms per loop (mean ± std. dev. of 7 runs, 1 loop each)\n"
     ]
    }
   ],
   "source": [
    "%%timeit -n 1\n",
    "with rasterio.open(\n",
    "    \"tests/fixtures/cog.tif\", \n",
    "    opener=VSIFile,\n",
    ") as src:\n",
    "    with Reader(None, dataset=src) as dst:\n",
    "        _ = dst.info()"
   ]
  },
  {
   "cell_type": "code",
   "execution_count": 12,
   "id": "9e6d99f7",
   "metadata": {},
   "outputs": [
    {
     "name": "stdout",
     "output_type": "stream",
     "text": [
      "7.15 ms ± 1.98 ms per loop (mean ± std. dev. of 7 runs, 1 loop each)\n"
     ]
    }
   ],
   "source": [
    "%%timeit -n 1\n",
    "with rasterio.open(\n",
    "    \"tests/fixtures/cog.tif\", \n",
    ") as src:\n",
    "    with Reader(None, dataset=src) as dst:\n",
    "        _ = dst.info()"
   ]
  },
  {
   "cell_type": "code",
   "execution_count": 9,
   "id": "78899b81",
   "metadata": {},
   "outputs": [
    {
     "name": "stdout",
     "output_type": "stream",
     "text": [
      "786 ms ± 11.4 ms per loop (mean ± std. dev. of 7 runs, 1 loop each)\n"
     ]
    }
   ],
   "source": [
    "%%timeit -n 1\n",
    "with rasterio.open(\n",
    "    \"https://sentinel-cogs.s3.us-west-2.amazonaws.com/sentinel-s2-l2a-cogs/15/T/VK/2023/10/S2B_15TVK_20231008_0_L2A/TCI.tif\", \n",
    "    opener=VSIFile,\n",
    ") as src:\n",
    "    with Reader(None, dataset=src) as dst:\n",
    "        _ = dst.info()"
   ]
  },
  {
   "cell_type": "code",
   "execution_count": 10,
   "id": "8a8a4393",
   "metadata": {},
   "outputs": [
    {
     "name": "stdout",
     "output_type": "stream",
     "text": [
      "11.5 ms ± 4.93 ms per loop (mean ± std. dev. of 7 runs, 1 loop each)\n"
     ]
    }
   ],
   "source": [
    "%%timeit -n 1\n",
    "with rasterio.open(\n",
    "    \"https://sentinel-cogs.s3.us-west-2.amazonaws.com/sentinel-s2-l2a-cogs/15/T/VK/2023/10/S2B_15TVK_20231008_0_L2A/TCI.tif\", \n",
    ") as src:\n",
    "    with Reader(None, dataset=src) as dst:\n",
    "        _ = dst.info()"
   ]
  },
  {
   "cell_type": "code",
   "execution_count": null,
   "id": "6b9cfd7f",
   "metadata": {},
   "outputs": [],
   "source": []
  }
 ],
 "metadata": {
  "kernelspec": {
   "display_name": "Python 3 (ipykernel)",
   "language": "python",
   "name": "python3"
  },
  "language_info": {
   "codemirror_mode": {
    "name": "ipython",
    "version": 3
   },
   "file_extension": ".py",
   "mimetype": "text/x-python",
   "name": "python",
   "nbconvert_exporter": "python",
   "pygments_lexer": "ipython3",
   "version": "3.9.17"
  }
 },
 "nbformat": 4,
 "nbformat_minor": 5
}
