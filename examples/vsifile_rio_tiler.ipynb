{
 "cells": [
  {
   "cell_type": "code",
   "execution_count": null,
   "id": "97959b17",
   "metadata": {
    "scrolled": false
   },
   "outputs": [],
   "source": [
    "import rasterio\n",
    "from rio_tiler.io import Reader\n",
    "from vsifile.rasterio import opener\n",
    "\n",
    "import logging\n",
    "\n",
    "logging.basicConfig(level=logging.DEBUG)\n",
    "\n",
    "# turn off some logs\n",
    "logging.getLogger(\"rasterio\").setLevel(logging.ERROR)\n",
    "logging.getLogger(\"httpcore\").setLevel(logging.ERROR)\n",
    "logging.getLogger(\"botocore\").setLevel(logging.ERROR)\n",
    "logging.getLogger(\"httpx\").setLevel(logging.ERROR)\n",
    "\n",
    "\n",
    "src_path = \"https://sentinel-cogs.s3.us-west-2.amazonaws.com/sentinel-s2-l2a-cogs/15/T/VK/2023/10/S2B_15TVK_20231008_0_L2A/TCI.tif\"\n",
    "z, x, y = 11, 493, 741\n"
   ]
  },
  {
   "cell_type": "code",
   "execution_count": null,
   "id": "689f6e67",
   "metadata": {},
   "outputs": [],
   "source": [
    "import attr\n",
    "from rio_tiler.io import Reader\n",
    "\n",
    "@attr.s\n",
    "class VSIReader(Reader):\n",
    "\n",
    "    def __attrs_post_init__(self):\n",
    "        if not self.dataset:\n",
    "            self.dataset = self._ctx_stack.enter_context(rasterio.open(self.input, opener=opener))\n",
    "        super().__attrs_post_init__()"
   ]
  },
  {
   "cell_type": "code",
   "execution_count": null,
   "id": "124ef847",
   "metadata": {},
   "outputs": [],
   "source": [
    "%%timeit -n 1 -r 1\n",
    "\n",
    "with rasterio.Env(\n",
    "    GDAL_DISABLE_READDIR_ON_OPEN=\"EMPTY_DIR\",\n",
    "    GDAL_INGESTED_BYTES_AT_OPEN=32768,\n",
    "    GDAL_HTTP_MERGE_CONSECUTIVE_RANGES=\"YES\",\n",
    "    CPL_DEBUG=\"ON\",\n",
    "    CPL_CURL_VERBOSE=\"YES\",\n",
    "    GDAL_HTTP_MULTIRANGE=\"YES\",\n",
    "    GDAL_HTTP_VERSION=\"2\",\n",
    "):\n",
    "    with VSIReader(src_path) as src:\n",
    "        src.preview()"
   ]
  },
  {
   "cell_type": "code",
   "execution_count": null,
   "id": "5ac8ca32",
   "metadata": {},
   "outputs": [],
   "source": [
    "%%timeit -n 1 -r 1\n",
    "\n",
    "with rasterio.Env(\n",
    "    GDAL_DISABLE_READDIR_ON_OPEN=\"EMPTY_DIR\",\n",
    "    GDAL_INGESTED_BYTES_AT_OPEN=32768,\n",
    "    GDAL_HTTP_MERGE_CONSECUTIVE_RANGES=\"YES\",\n",
    "    CPL_DEBUG=\"ON\",\n",
    "    CPL_CURL_VERBOSE=\"YES\",\n",
    "    GDAL_HTTP_MULTIRANGE=\"YES\",\n",
    "    GDAL_HTTP_VERSION=\"2\",\n",
    "):\n",
    "    with VSIReader(src_path) as src:\n",
    "        src.tile(x, y, z)"
   ]
  },
  {
   "cell_type": "code",
   "execution_count": null,
   "id": "83c6be69",
   "metadata": {},
   "outputs": [],
   "source": []
  }
 ],
 "metadata": {
  "kernelspec": {
   "display_name": "Python 3 (ipykernel)",
   "language": "python",
   "name": "python3"
  },
  "language_info": {
   "codemirror_mode": {
    "name": "ipython",
    "version": 3
   },
   "file_extension": ".py",
   "mimetype": "text/x-python",
   "name": "python",
   "nbconvert_exporter": "python",
   "pygments_lexer": "ipython3",
   "version": "3.12.3"
  }
 },
 "nbformat": 4,
 "nbformat_minor": 5
}
