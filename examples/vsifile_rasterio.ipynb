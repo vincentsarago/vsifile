{
 "cells": [
  {
   "cell_type": "code",
   "execution_count": 1,
   "id": "97959b17",
   "metadata": {
    "scrolled": false
   },
   "outputs": [],
   "source": [
    "import rasterio\n",
    "from vsifile.rasterio import opener"
   ]
  },
  {
   "cell_type": "code",
   "execution_count": 2,
   "id": "9e6d99f7",
   "metadata": {},
   "outputs": [
    {
     "name": "stdout",
     "output_type": "stream",
     "text": [
      "{'driver': 'GTiff', 'dtype': 'uint16', 'nodata': None, 'width': 2658, 'height': 2667, 'count': 1, 'crs': CRS.from_epsg(32621), 'transform': Affine(100.01126757344893, 0.0, 373185.0,\n",
      "       0.0, -100.01126757344893, 8286015.0)}\n",
      "39.3 ms ± 0 ns per loop (mean ± std. dev. of 1 run, 1 loop each)\n"
     ]
    }
   ],
   "source": [
    "%%timeit -n 1 -r 1\n",
    "\n",
    "with rasterio.Env(\n",
    "   GDAL_DISABLE_READDIR_ON_OPEN=\"EMPTY_DIR\",\n",
    "   GDAL_INGESTED_BYTES_AT_OPEN=32768,\n",
    "   GDAL_HTTP_MERGE_CONSECUTIVE_RANGES=\"YES\",\n",
    "   CPL_DEBUG=\"ON\",\n",
    "   CPL_CURL_VERBOSE=\"YES\",\n",
    "   GDAL_HTTP_MULTIRANGE=\"YES\",\n",
    "   GDAL_HTTP_VERSION=\"2\",\n",
    "):\n",
    "   with rasterio.open(\"../tests/fixtures/cog.tif\") as src:\n",
    "      print(src.meta)"
   ]
  },
  {
   "cell_type": "code",
   "execution_count": 3,
   "id": "9350ce11",
   "metadata": {},
   "outputs": [
    {
     "name": "stdout",
     "output_type": "stream",
     "text": [
      "{'driver': 'GTiff', 'dtype': 'uint16', 'nodata': None, 'width': 2658, 'height': 2667, 'count': 1, 'crs': CRS.from_epsg(32621), 'transform': Affine(100.01126757344893, 0.0, 373185.0,\n",
      "       0.0, -100.01126757344893, 8286015.0)}\n",
      "11.3 ms ± 0 ns per loop (mean ± std. dev. of 1 run, 1 loop each)\n"
     ]
    }
   ],
   "source": [
    "%%timeit -n 1 -r 1\n",
    "\n",
    "with rasterio.Env(\n",
    "    GDAL_DISABLE_READDIR_ON_OPEN=\"EMPTY_DIR\",\n",
    "    GDAL_INGESTED_BYTES_AT_OPEN=32768,\n",
    "    GDAL_HTTP_MERGE_CONSECUTIVE_RANGES=\"YES\",\n",
    "    CPL_DEBUG=\"ON\",\n",
    "    CPL_CURL_VERBOSE=\"YES\",\n",
    "    GDAL_HTTP_MULTIRANGE=\"YES\",\n",
    "    GDAL_HTTP_VERSION=\"2\",\n",
    "):\n",
    "    with rasterio.open(\"../tests/fixtures/cog.tif\", opener=opener) as src:\n",
    "        print(src.meta)"
   ]
  },
  {
   "cell_type": "code",
   "execution_count": 4,
   "id": "8a8a4393",
   "metadata": {},
   "outputs": [
    {
     "name": "stdout",
     "output_type": "stream",
     "text": [
      "3 s ± 0 ns per loop (mean ± std. dev. of 1 run, 1 loop each)\n"
     ]
    }
   ],
   "source": [
    "%%timeit -n 1 -r 1\n",
    "\n",
    "with rasterio.Env(\n",
    "    GDAL_DISABLE_READDIR_ON_OPEN=\"EMPTY_DIR\",\n",
    "    GDAL_INGESTED_BYTES_AT_OPEN=32768,\n",
    "    GDAL_HTTP_MERGE_CONSECUTIVE_RANGES=\"YES\",\n",
    "    CPL_DEBUG=\"ON\",\n",
    "    CPL_CURL_VERBOSE=\"YES\",\n",
    "    GDAL_HTTP_MULTIRANGE=\"YES\",\n",
    "    GDAL_HTTP_VERSION=\"2\",\n",
    "):\n",
    "    with rasterio.open(\n",
    "        \"https://sentinel-cogs.s3.us-west-2.amazonaws.com/sentinel-s2-l2a-cogs/15/T/VK/2023/10/S2B_15TVK_20231008_0_L2A/TCI.tif\",\n",
    "    ) as src:\n",
    "        _ = src.read(indexes=1, out_shape=(1, src.height//5, src.width//5))"
   ]
  },
  {
   "cell_type": "code",
   "execution_count": 5,
   "id": "78899b81",
   "metadata": {},
   "outputs": [
    {
     "name": "stdout",
     "output_type": "stream",
     "text": [
      "2.41 s ± 0 ns per loop (mean ± std. dev. of 1 run, 1 loop each)\n"
     ]
    }
   ],
   "source": [
    "%%timeit -n 1 -r 1\n",
    "\n",
    "with rasterio.Env(\n",
    "    GDAL_DISABLE_READDIR_ON_OPEN=\"EMPTY_DIR\",\n",
    "    GDAL_INGESTED_BYTES_AT_OPEN=32768,\n",
    "    GDAL_HTTP_MERGE_CONSECUTIVE_RANGES=\"YES\",\n",
    "    CPL_DEBUG=\"ON\",\n",
    "    CPL_CURL_VERBOSE=\"YES\",\n",
    "    GDAL_HTTP_MULTIRANGE=\"YES\",\n",
    "    GDAL_HTTP_VERSION=\"2\",\n",
    "):\n",
    "    with rasterio.open(\n",
    "        \"https://sentinel-cogs.s3.us-west-2.amazonaws.com/sentinel-s2-l2a-cogs/15/T/VK/2023/10/S2B_15TVK_20231008_0_L2A/TCI.tif\",\n",
    "        opener=opener,\n",
    "    ) as src:\n",
    "        _ = src.read(indexes=1, out_shape=(1, src.height//5, src.width//5))"
   ]
  },
  {
   "cell_type": "code",
   "execution_count": null,
   "id": "6b9cfd7f",
   "metadata": {},
   "outputs": [],
   "source": []
  }
 ],
 "metadata": {
  "kernelspec": {
   "display_name": "Python 3 (ipykernel)",
   "language": "python",
   "name": "python3"
  },
  "language_info": {
   "codemirror_mode": {
    "name": "ipython",
    "version": 3
   },
   "file_extension": ".py",
   "mimetype": "text/x-python",
   "name": "python",
   "nbconvert_exporter": "python",
   "pygments_lexer": "ipython3",
   "version": "3.9.19"
  }
 },
 "nbformat": 4,
 "nbformat_minor": 5
}
