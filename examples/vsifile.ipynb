{
 "cells": [
  {
   "cell_type": "code",
   "execution_count": null,
   "metadata": {},
   "outputs": [],
   "source": [
    "from vsifile import VSIFile\n",
    "from vsifile.io import FileReader\n",
    "\n",
    "with VSIFile(\"../tests/fixtures/cog.tif\")as f:\n",
    "    print(hash(f))\n",
    "    print(f)\n",
    "    assert \"FileReader\" in str(f)\n",
    "    print(\"Header Cache: \", f.cache)\n",
    "    print(\"size: \", f.size)\n"
   ]
  },
  {
   "cell_type": "code",
   "execution_count": null,
   "metadata": {},
   "outputs": [],
   "source": [
    "with VSIFile(\"https://sentinel-cogs.s3.us-west-2.amazonaws.com/sentinel-s2-l2a-cogs/15/T/VK/2023/10/S2B_15TVK_20231008_0_L2A/TCI.tif\")as f:\n",
    "    print(hash(f))\n",
    "    print(f)\n",
    "    assert \"HttpReader\" in str(f)\n",
    "    print(\"Header Cache: \", f.cache)\n",
    "    print(\"size: \", f.size)\n"
   ]
  },
  {
   "cell_type": "code",
   "execution_count": null,
   "metadata": {},
   "outputs": [],
   "source": [
    "with VSIFile(\"s3://sentinel-cogs/sentinel-s2-l2a-cogs/15/T/VK/2023/10/S2B_15TVK_20231008_0_L2A/TCI.tif\")as f:\n",
    "    print(hash(f))\n",
    "    print(f)\n",
    "    assert \"S3Reader\" in str(f)\n",
    "    print(\"Header Cache: \", f.cache)\n",
    "    print(\"size: \", f.size)"
   ]
  },
  {
   "cell_type": "code",
   "execution_count": null,
   "metadata": {},
   "outputs": [],
   "source": []
  }
 ],
 "metadata": {
  "kernelspec": {
   "display_name": "py39",
   "language": "python",
   "name": "python3"
  },
  "language_info": {
   "codemirror_mode": {
    "name": "ipython",
    "version": 3
   },
   "file_extension": ".py",
   "mimetype": "text/x-python",
   "name": "python",
   "nbconvert_exporter": "python",
   "pygments_lexer": "ipython3",
   "version": "3.9.19"
  }
 },
 "nbformat": 4,
 "nbformat_minor": 2
}
