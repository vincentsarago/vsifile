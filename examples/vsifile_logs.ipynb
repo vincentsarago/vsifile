{
 "cells": [
  {
   "cell_type": "code",
   "execution_count": null,
   "id": "97959b17",
   "metadata": {
    "scrolled": false
   },
   "outputs": [],
   "source": [
    "import logging\n",
    "\n",
    "import rasterio\n",
    "from rasterio.vrt import WarpedVRT\n",
    "from vsifile.rasterio import opener\n",
    "\n",
    "logging.basicConfig(level=logging.DEBUG)\n",
    "\n",
    "# turn off some logs\n",
    "logging.getLogger(\"rasterio\").setLevel(logging.ERROR)\n",
    "logging.getLogger(\"httpcore\").setLevel(logging.ERROR)\n",
    "logging.getLogger(\"botocore\").setLevel(logging.ERROR)\n",
    "logging.getLogger(\"httpx\").setLevel(logging.ERROR)"
   ]
  },
  {
   "cell_type": "code",
   "execution_count": null,
   "id": "9350ce11",
   "metadata": {},
   "outputs": [],
   "source": [
    "with rasterio.Env(\n",
    "    GDAL_DISABLE_READDIR_ON_OPEN=\"EMPTY_DIR\",\n",
    "    GDAL_INGESTED_BYTES_AT_OPEN=32768,\n",
    "    GDAL_HTTP_MERGE_CONSECUTIVE_RANGES=\"YES\",\n",
    "    CPL_DEBUG=\"ON\",\n",
    "    CPL_CURL_VERBOSE=\"YES\",\n",
    "    GDAL_HTTP_MULTIRANGE=\"YES\",\n",
    "    GDAL_HTTP_VERSION=\"2\",\n",
    "):\n",
    "    with rasterio.open(\"../tests/fixtures/cog.tif\", opener=opener) as src:\n",
    "        _ = src.meta\n",
    "        _ = src.read(indexes=1, out_shape=(1, src.height//5, src.width//5))"
   ]
  },
  {
   "cell_type": "code",
   "execution_count": null,
   "id": "78899b81",
   "metadata": {},
   "outputs": [],
   "source": [
    "with rasterio.Env(\n",
    "    GDAL_DISABLE_READDIR_ON_OPEN=\"EMPTY_DIR\",\n",
    "    GDAL_INGESTED_BYTES_AT_OPEN=32768,\n",
    "    GDAL_HTTP_MERGE_CONSECUTIVE_RANGES=\"YES\",\n",
    "    CPL_DEBUG=\"ON\",\n",
    "    CPL_CURL_VERBOSE=\"YES\",\n",
    "    GDAL_HTTP_MULTIRANGE=\"YES\",\n",
    "    GDAL_HTTP_VERSION=\"2\",\n",
    "):\n",
    "    with rasterio.open(\n",
    "        \"s3://sentinel-cogs/sentinel-s2-l2a-cogs/15/T/VK/2023/10/S2B_15TVK_20231008_0_L2A/TCI.tif\",\n",
    "        opener=opener,\n",
    "    ) as src:\n",
    "        _ = src.meta\n",
    "        _ = src.read(indexes=1, out_shape=(1, src.height//4, src.width//4))\n"
   ]
  },
  {
   "cell_type": "code",
   "execution_count": null,
   "metadata": {},
   "outputs": [],
   "source": [
    "with rasterio.Env(\n",
    "    GDAL_DISABLE_READDIR_ON_OPEN=\"EMPTY_DIR\",\n",
    "    GDAL_INGESTED_BYTES_AT_OPEN=32768,\n",
    "    GDAL_HTTP_MERGE_CONSECUTIVE_RANGES=\"YES\",\n",
    "    CPL_DEBUG=\"ON\",\n",
    "    CPL_CURL_VERBOSE=\"YES\",\n",
    "    GDAL_HTTP_MULTIRANGE=\"YES\",\n",
    "    GDAL_HTTP_VERSION=\"2\",\n",
    "):\n",
    "    with rasterio.open(\n",
    "        \"https://sentinel-cogs.s3.us-west-2.amazonaws.com/sentinel-s2-l2a-cogs/15/T/VK/2023/10/S2B_15TVK_20231008_0_L2A/TCI.tif\",\n",
    "        opener=opener,\n",
    "    ) as src:\n",
    "        with WarpedVRT(src, crs=\"epsg:3857\") as vrt:\n",
    "            _ = vrt.read(indexes=1, out_shape=(1, src.height//4, src.width//4))"
   ]
  },
  {
   "cell_type": "code",
   "execution_count": null,
   "id": "fbe38f30",
   "metadata": {},
   "outputs": [],
   "source": []
  }
 ],
 "metadata": {
  "kernelspec": {
   "display_name": "Python 3 (ipykernel)",
   "language": "python",
   "name": "python3"
  },
  "language_info": {
   "codemirror_mode": {
    "name": "ipython",
    "version": 3
   },
   "file_extension": ".py",
   "mimetype": "text/x-python",
   "name": "python",
   "nbconvert_exporter": "python",
   "pygments_lexer": "ipython3",
   "version": "3.12.3"
  }
 },
 "nbformat": 4,
 "nbformat_minor": 5
}
