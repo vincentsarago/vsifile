{
 "cells": [
  {
   "cell_type": "code",
   "execution_count": 1,
   "id": "97959b17",
   "metadata": {
    "scrolled": false
   },
   "outputs": [],
   "source": [
    "import rasterio\n",
    "from rio_tiler.io import Reader\n",
    "from vsifile.rasterio import opener\n",
    "\n",
    "import logging\n",
    "\n",
    "logging.basicConfig(level=logging.DEBUG)\n",
    "\n",
    "# turn off some logs\n",
    "logging.getLogger(\"rasterio\").setLevel(logging.ERROR)\n",
    "logging.getLogger(\"httpcore\").setLevel(logging.ERROR)\n",
    "logging.getLogger(\"botocore\").setLevel(logging.ERROR)\n",
    "logging.getLogger(\"httpx\").setLevel(logging.ERROR)"
   ]
  },
  {
   "cell_type": "code",
   "execution_count": null,
   "id": "9350ce11",
   "metadata": {},
   "outputs": [],
   "source": [
    "with rasterio.open(\"../tests/fixtures/cog.tif\", opener=opener) as src:\n",
    "    with Reader(None, dataset=src) as dst:\n",
    "        _ = dst.info()"
   ]
  },
  {
   "cell_type": "code",
   "execution_count": null,
   "id": "78899b81",
   "metadata": {},
   "outputs": [],
   "source": [
    "with rasterio.open(\n",
    "    \"https://sentinel-cogs.s3.us-west-2.amazonaws.com/sentinel-s2-l2a-cogs/15/T/VK/2023/10/S2B_15TVK_20231008_0_L2A/TCI.tif\",\n",
    "    opener=opener,\n",
    ") as src:\n",
    "    with Reader(None, dataset=src) as dst:\n",
    "        _ = dst.info()\n"
   ]
  },
  {
   "cell_type": "code",
   "execution_count": null,
   "metadata": {},
   "outputs": [],
   "source": []
  }
 ],
 "metadata": {
  "kernelspec": {
   "display_name": "Python 3 (ipykernel)",
   "language": "python",
   "name": "python3"
  },
  "language_info": {
   "codemirror_mode": {
    "name": "ipython",
    "version": 3
   },
   "file_extension": ".py",
   "mimetype": "text/x-python",
   "name": "python",
   "nbconvert_exporter": "python",
   "pygments_lexer": "ipython3",
   "version": "3.9.19"
  }
 },
 "nbformat": 4,
 "nbformat_minor": 5
}
